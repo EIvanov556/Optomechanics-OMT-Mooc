{
 "cells": [
  {
   "cell_type": "code",
   "execution_count": 1,
   "metadata": {},
   "outputs": [
    {
     "name": "stdout",
     "output_type": "stream",
     "text": [
      "Populating the interactive namespace from numpy and matplotlib\n"
     ]
    }
   ],
   "source": [
    "#MODULE LOADING\n",
    "%pylab inline\n",
    "import numpy as np\n",
    "from cmath import *\n",
    "from ipywidgets import interact, interactive, fixed, interact_manual\n",
    "#https://ipywidgets.readthedocs.io/en/stable/examples/Using%20Interact.html\n",
    "import ipywidgets as widgets\n",
    "import os\n",
    "omit_dir = \"C:\\\\Users\\\\edoua\\\\Documents\\\\Python Scripts\\\\OMT-Mooc\\\\omit\\\\omit\"\n",
    "os.chdir(omit_dir)\n",
    "import exercises"
   ]
  },
  {
   "cell_type": "code",
   "execution_count": null,
   "metadata": {},
   "outputs": [],
   "source": [
    "#PURE OPTICS EXPERIMENT\n",
    "oo = exercises.OpticsOnly()\n",
    "eta_slider = widgets.FloatSlider(min=0, max=10, step=0.1, continuous_update=False, value=1)\n",
    "interactive(oo.main_fun, eta=eta_slider)"
   ]
  },
  {
   "cell_type": "code",
   "execution_count": 2,
   "metadata": {},
   "outputs": [
    {
     "data": {
      "application/vnd.jupyter.widget-view+json": {
       "model_id": "151d39482d4949d3927132fec2f5c389",
       "version_major": 2,
       "version_minor": 0
      },
      "text/html": [
       "<p>Failed to display Jupyter Widget of type <code>interactive</code>.</p>\n",
       "<p>\n",
       "  If you're reading this message in the Jupyter Notebook or JupyterLab Notebook, it may mean\n",
       "  that the widgets JavaScript is still loading. If this message persists, it\n",
       "  likely means that the widgets JavaScript library is either not installed or\n",
       "  not enabled. See the <a href=\"https://ipywidgets.readthedocs.io/en/stable/user_install.html\">Jupyter\n",
       "  Widgets Documentation</a> for setup instructions.\n",
       "</p>\n",
       "<p>\n",
       "  If you're reading this message in another frontend (for example, a static\n",
       "  rendering on GitHub or <a href=\"https://nbviewer.jupyter.org/\">NBViewer</a>),\n",
       "  it may mean that your frontend doesn't currently support widgets.\n",
       "</p>\n"
      ],
      "text/plain": [
       "interactive(children=(FloatSlider(value=1.0, continuous_update=False, description='eta', max=10.0), FloatSlider(value=0.001, continuous_update=False, description='g0', max=0.002, step=0.0005), FloatSlider(value=8.0, continuous_update=False, description='omega_m', max=15.0, min=1.0, step=2.0), FloatSlider(value=300.0, continuous_update=False, description='t', max=300.0, min=1.0, step=50.0), Output()), _dom_classes=('widget-interact',))"
      ]
     },
     "metadata": {},
     "output_type": "display_data"
    }
   ],
   "source": [
    "#ONE-TONE EXPERIMENT WITH WEAK COUPLING\n",
    "ote = exercises.OneToneExperiment()\n",
    "eta_slider = widgets.FloatSlider(min=0, max=10, step=0.1, continuous_update=False, value=1)\n",
    "g0_slider = widgets.FloatSlider(min=0, max=2e2/1e5, step=50/1e5, continuous_update=False, value=1e2/1e5)\n",
    "omega_m_slider = widgets.FloatSlider(min=1, max=15, step=2, continuous_update=False, value=8)\n",
    "t_slider = widgets.FloatSlider(min=1, max=300, step=50, continuous_update=False, value=300)\n",
    "interactive(ote.main_fun, eta=eta_slider, g0=g0_slider, omega_m=omega_m_slider, t=t_slider)"
   ]
  },
  {
   "cell_type": "code",
   "execution_count": null,
   "metadata": {},
   "outputs": [],
   "source": [
    "#TWO-TONE EXPERIMENT\n",
    "g0 = 0 #vacuum coupling rate\n",
    "ncav = 1e5 #number of intracavity photons\n",
    "g = g0*ncav\n",
    "\n",
    "omega_cav = 1e9 #cavity resonance\n",
    "kappa = 1e6 #cavity bandwidth\n",
    "\n",
    "\n",
    "Omega_m = 1e7 #mechanical frequency\n",
    "Q = 1e6 #quality factor\n",
    "Gamma = 0#Omega_m/Q\n",
    "\n",
    "omega = np.arange(-5, 5, 0.1) #in units of kappa, probe frequency\n",
    "Omega = -Omega_m #control tone frequency\n",
    "\n",
    "chi_aa = 1/((1/2)+1j*omega) #+ g*g/(kappa*Gamma/2 + 1j*kappa*(Omega_m+omega-Omega)))\n",
    "T = np.abs(1 - chi_aa)**2\n",
    "\n",
    "fig = plot(omega, T)"
   ]
  },
  {
   "cell_type": "code",
   "execution_count": null,
   "metadata": {},
   "outputs": [],
   "source": []
  }
 ],
 "metadata": {
  "kernelspec": {
   "display_name": "Python 3",
   "language": "python",
   "name": "python3"
  },
  "language_info": {
   "codemirror_mode": {
    "name": "ipython",
    "version": 3
   },
   "file_extension": ".py",
   "mimetype": "text/x-python",
   "name": "python",
   "nbconvert_exporter": "python",
   "pygments_lexer": "ipython3",
   "version": "3.6.4"
  }
 },
 "nbformat": 4,
 "nbformat_minor": 2
}
