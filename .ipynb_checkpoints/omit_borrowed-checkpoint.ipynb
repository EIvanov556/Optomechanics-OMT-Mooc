{
 "cells": [
  {
   "cell_type": "markdown",
   "metadata": {},
   "source": [
    "# Two-tone optomechanics"
   ]
  },
  {
   "cell_type": "markdown",
   "metadata": {},
   "source": [
    "Lets' start by writing a few important equations relevant to our system. Many are taken directly from the optomechanically induced tranparency paper, [Weis (2010)](https://arxiv.org/pdf/1007.0565.pdf).\n",
    "\n",
    "Our convention will be to use $\\Delta = \\omega_d - \\omega_c$ as the drive detuning, and $\\epsilon = \\omega_p - \\omega_d$ as the probe detuning with respect to the drive tone."
   ]
  },
  {
   "cell_type": "code",
   "execution_count": 8,
   "metadata": {},
   "outputs": [],
   "source": [
    "import numpy as np\n",
    "from scipy import constants\n",
    "\n",
    "TAU = np.pi * 2.0\n",
    "HBAR = constants.hbar\n",
    "\n",
    "# dBm to Watts.\n",
    "def dbm2w(dbm):\n",
    "    return 1e-3 * 10.0**(dbm/10.0)\n",
    "\n",
    "# Intracavity photon number.\n",
    "def cavity_photon_number(power, delta, omega, kappa, kext, geom='reflection'):\n",
    "    drive_num = power/(HBAR*omega*TAU)\n",
    "    if geom == 'side':\n",
    "        return drive_num * ((kext*TAU/2.0) / ((kappa*TAU/2.0)**2 + (delta*TAU)**2))\n",
    "    elif geom == 'reflection':\n",
    "        return drive_num * (kext*TAU / ((kappa*TAU/2.0)**2 + (delta*TAU)**2))\n",
    "\n",
    "# Mechanical susceptibility.\n",
    "def mech_susc(mass, fm, eps, gamma):\n",
    "    fm = fm*TAU\n",
    "    gamma = gamma*TAU\n",
    "    eps = eps*TAU\n",
    "    return 1.0/(mass*(fm**2.0 - eps**2.0 - 1j*(eps*gamma)))\n",
    "\n",
    "# d\\omega/dx, AKA 'G'.\n",
    "def dwdx(g0, mass, fm):\n",
    "    g0 = g0*TAU\n",
    "    fm = fm*TAU\n",
    "    return g0 / np.sqrt(HBAR/(2.0*mass*fm))\n",
    "\n",
    "# Cavity susceptibility.\n",
    "def cav_susc(fm, fc, delta, eps, gamma, g0, kint, kext, powd):\n",
    "    mass = 1.0 # Mass gets cancelled out.\n",
    "    dwd = dwdx(g0, mass, fm)\n",
    "    powd_w = dbm2w(powd)\n",
    "    num = cavity_photon_number(powd_w, delta, fc, kint+kext, kext)\n",
    "    mech = mech_susc(mass, fm, eps, gamma)\n",
    "\n",
    "    kappa = (kint+kext)*TAU\n",
    "    delta = delta*TAU\n",
    "    eps = eps*TAU\n",
    "\n",
    "    numer = HBAR*(dwd**2.0)*num*mech\n",
    "    denom = kappa/2.0 + 1j*(delta - eps)\n",
    "    return numer/denom\n",
    "\n",
    "# Reflection coefficient.\n",
    "def S11(fm, fc, delta, eps, gamma, g0, kint, kext, powd):\n",
    "    cav = cav_susc(fm, fc, delta, eps, gamma, g0, kint, kext, powd)\n",
    "\n",
    "    delta = delta*TAU\n",
    "    omega = eps*TAU\n",
    "    kappa = (kint+kext)*TAU\n",
    "\n",
    "    numer = (1.0 + 1j*cav)*kext*TAU\n",
    "    denom = kappa/2.0 - 1j*(delta+omega) + 2.0*delta*cav\n",
    "    return 1.0 - numer/denom"
   ]
  },
  {
   "cell_type": "markdown",
   "metadata": {},
   "source": [
    "I want to create a base class which will be used to calculate and display data using the above optomechanical equations. The parameters which approximate our own device will be hard-coded, and the probe, drive tones, and visualization will be left to the derived classes."
   ]
  },
  {
   "cell_type": "code",
   "execution_count": 15,
   "metadata": {},
   "outputs": [
    {
     "data": {
      "text/plain": [
       "3.035410691086884e-08"
      ]
     },
     "execution_count": 15,
     "metadata": {},
     "output_type": "execute_result"
    }
   ],
   "source": [
    "G = dwdx(bc1.g0, 1e-9, bc1.fm)\n",
    "\n",
    "G*cavity_photon_number(1, 0, 1e14, bc1.kext+bc1.kint, bc1.kext)*6.626e-34"
   ]
  },
  {
   "cell_type": "code",
   "execution_count": 2,
   "metadata": {},
   "outputs": [],
   "source": [
    "%matplotlib inline\n",
    "import matplotlib.pyplot as plt\n",
    "\n",
    "class BadCavity:\n",
    "    def __init__(self):\n",
    "        self.fc = 3.761e9 # Cavity frequency.\n",
    "        self.kext = 5e6 # External decay rate.\n",
    "        self.kint = 14e6 # Internal decay rate.\n",
    "        self.fm = 228.5e3 # Mechanical frequency.\n",
    "        self.g0 = 0.0105 # Single photon-coupling.\n",
    "        self.gamma = 25.0 # Mechanical decay rate.\n",
    "        \n",
    "        self.mode = 'dB' # Or 'linear'.\n",
    "        \n",
    "    def coop(self):\n",
    "        return (4.0*self.g0*self.g0) / (self.kappa()*self.gamma)\n",
    "    \n",
    "    def kappa(self):\n",
    "        return self.kint + self.kext\n",
    "    \n",
    "    def eta(self):\n",
    "        return self.kext/self.kappa()\n",
    "    \n",
    "    def fm_over_kappa(self):\n",
    "        return self.fm/self.kappa()\n",
    "    \n",
    "    def S11(self, refl):\n",
    "        if self.mode == 'dB':\n",
    "            return 20.0*np.log10(np.abs(refl))\n",
    "        elif self.mode == 'linear':\n",
    "            return np.abs(refl)"
   ]
  },
  {
   "cell_type": "markdown",
   "metadata": {},
   "source": [
    "Next class will plot a simple sweep with a given drive frequency and power."
   ]
  },
  {
   "cell_type": "code",
   "execution_count": 3,
   "metadata": {},
   "outputs": [
    {
     "data": {
      "image/png": "[encoded data removed]",
      "text/plain": [
       "<matplotlib.figure.Figure at 0x1faaf1a5940>"
      ]
     },
     "metadata": {},
     "output_type": "display_data"
    }
   ],
   "source": [
    "class SimpleSweep(BadCavity):\n",
    "    def __init__(self):\n",
    "        super().__init__()\n",
    "        \n",
    "        self.delta = 0.0 # Drive detuning.\n",
    "        self.dbm = 1.0 # Drive power.\n",
    "        \n",
    "        span = 100.0 * self.gamma\n",
    "        self.eps = np.linspace(self.fm-span/2.0, self.fm+span/2.0, 5001)\n",
    "        \n",
    "        self.refl = None\n",
    "        \n",
    "    def probe(self, center, span, pts=5001):\n",
    "        self.eps = np.linspace(center-span/2.0, center+span/2.0, pts)\n",
    "        \n",
    "    def calc(self):\n",
    "        self.refl = S11(self.fm, self.fc, self.delta, self.eps, self.gamma, \n",
    "                        self.g0, self.kint, self.kext, self.dbm)\n",
    "        \n",
    "    def find_peak(self):\n",
    "        return np.amax(self.S11(self.refl))\n",
    "    \n",
    "    def plot(self, auto=True):\n",
    "        if auto: self.calc()\n",
    "        plt.plot(self.eps/self.fm, self.S11(self.refl))\n",
    "        plt.title('$\\Delta / \\Omega_m = %s, P_{in} = %s$ dBm' % (self.delta/self.fm, self.dbm))\n",
    "        plt.xlabel('$\\epsilon / \\Omega_m$')\n",
    "        plt.ylabel('$S_{11} (%s)$' % self.mode)\n",
    "        plt.show()\n",
    "        \n",
    "# TEST\n",
    "test = SimpleSweep()\n",
    "\n",
    "test.delta = -3e6\n",
    "test.dbm = 7.0\n",
    "test.probe(test.fm, 100.0*test.gamma)\n",
    "test.mode = 'linear'\n",
    "test.plot()"
   ]
  },
  {
   "cell_type": "markdown",
   "metadata": {},
   "source": [
    "Next class will be an interactive plot with which to visualize both probe detunings with respect to a certain drive detuning. The sweepable parameters will be the drive detuning $ \\Delta $, the drive power in dBm, the cavity coupling parameter $ \\eta = \\kappa_{\\rm{e}}/\\kappa $, and the sideband resolved ratio $ \\Omega_{\\rm{m}}/\\kappa $. "
   ]
  },
  {
   "cell_type": "code",
   "execution_count": 6,
   "metadata": {},
   "outputs": [
    {
     "data": {
      "application/vnd.jupyter.widget-view+json": {
       "model_id": "2bdd6bd492e24a448c64b534be9b9ba8",
       "version_major": 2,
       "version_minor": 0
      },
      "text/html": [
       "<p>Failed to display Jupyter Widget of type <code>interactive</code>.</p>\n",
       "<p>\n",
       "  If you're reading this message in the Jupyter Notebook or JupyterLab Notebook, it may mean\n",
       "  that the widgets JavaScript is still loading. If this message persists, it\n",
       "  likely means that the widgets JavaScript library is either not installed or\n",
       "  not enabled. See the <a href=\"https://ipywidgets.readthedocs.io/en/stable/user_install.html\">Jupyter\n",
       "  Widgets Documentation</a> for setup instructions.\n",
       "</p>\n",
       "<p>\n",
       "  If you're reading this message in another frontend (for example, a static\n",
       "  rendering on GitHub or <a href=\"https://nbviewer.jupyter.org/\">NBViewer</a>),\n",
       "  it may mean that your frontend doesn't currently support widgets.\n",
       "</p>\n"
      ],
      "text/plain": [
       "interactive(children=(IntSlider(value=0, description='delta', max=20, min=-20), IntSlider(value=0, description='dbm', max=30, min=-30), FloatSlider(value=0.3333333333333333, description='eta', max=0.95, min=0.05, step=0.05), FloatSlider(value=-1.7781512503836436, description='fm_over_kappa', max=2.0, min=-2.0), Output()), _dom_classes=('widget-interact',))"
      ]
     },
     "metadata": {},
     "output_type": "display_data"
    },
    {
     "data": {
      "text/plain": [
       "<function __main__.inter_omit>"
      ]
     },
     "execution_count": 6,
     "metadata": {},
     "output_type": "execute_result"
    }
   ],
   "source": [
    "from ipywidgets import interact\n",
    "\n",
    "class SweepOverview(SimpleSweep):\n",
    "    def __init__(self):\n",
    "        super().__init__()\n",
    "\n",
    "        self.fc = 4e9 # Cavity frequency.\n",
    "        self.kext = 2e6 # External decay rate.\n",
    "        self.kint = 4e6 # Internal decay rate.\n",
    "        self.fm = 100e3 # Mechanical frequency.\n",
    "        self.g0 = 0.01 # Single photon-coupling.\n",
    "        self.gamma = 30.0 # Mechanical decay rate.\n",
    "           \n",
    "    def plot(self):\n",
    "        # Red probe.\n",
    "        self.probe(-self.fm, 100.0*self.gamma)\n",
    "        self.calc()\n",
    "        red_sb_x = self.eps/self.fm\n",
    "        red_sb_y = self.S11(self.refl)\n",
    "        \n",
    "        # Blue probe.\n",
    "        self.probe(self.fm, 100.0*self.gamma)\n",
    "        self.calc()\n",
    "        blue_sb_x = self.eps/self.fm\n",
    "        blue_sb_y = self.S11(self.refl)\n",
    "\n",
    "        # Cache old values.\n",
    "        delta = self.delta/self.fm\n",
    "        dbm = self.dbm\n",
    "        \n",
    "        # Full cavity.\n",
    "        self.probe(-self.delta, 1.0*self.kappa())\n",
    "        self.calc()\n",
    "        full_cav_x = self.eps/self.fm\n",
    "        full_cav_y = self.S11(self.refl)\n",
    "               \n",
    "        # Plot.\n",
    "        fig = plt.figure(figsize=(15,8))\n",
    "        fig.suptitle('$\\Delta / \\Omega_m = %s \\ P_{in} = %s dBm, \\\n",
    "                     \\eta = %.3f, \\Omega_m / \\kappa = %.3f$' % (delta, dbm, self.eta(), self.fm_over_kappa()))\n",
    "        axes = fig.subplots(1, 3, gridspec_kw = {'width_ratios':[1,2,1]}, sharey=True)\n",
    "        \n",
    "        axes[0].set(ylabel='$S_{11} (%s)$' % self.mode)\n",
    "        axes[0].locator_params(axis='x', nbins=3)\n",
    "        axes[0].plot(red_sb_x, red_sb_y, color='red')\n",
    "        axes[0].set(xlabel='$\\epsilon / \\Omega_m$')\n",
    "        axes[0].tick_params(axis='both', direction='in', top=True, right=True)\n",
    "        \n",
    "        axes[1].plot(full_cav_x, full_cav_y, color='black')\n",
    "        axes[1].set(xlabel='$\\epsilon / \\Omega_m$')\n",
    "        axes[1].tick_params(axis='both', direction='in', top=True, right=True)\n",
    "\n",
    "        axes[1].axvline(x=0.0, color='grey')\n",
    "        axes[1].axvline(x=+1.0, color='blue', linestyle=':')\n",
    "        axes[1].axvline(x=-1.0, color='red', linestyle=':')\n",
    "\n",
    "        axes[2].set(xlabel='$\\epsilon / \\Omega_m$')\n",
    "        axes[2].locator_params(axis='x', nbins=3)\n",
    "        axes[2].plot(blue_sb_x, blue_sb_y, color='blue')\n",
    "        axes[2].tick_params(axis='both', direction='in', top=True, right=True)\n",
    "        \n",
    "        fig.subplots_adjust(wspace=0)\n",
    "        plt.show()\n",
    "\n",
    "swp = SweepOverview()\n",
    "\n",
    "fm_over_k = np.log10(swp.fm_over_kappa())\n",
    "\n",
    "def inter_omit(delta, dbm, eta=swp.eta(), fm_over_kappa=fm_over_k):\n",
    "    kappa = swp.kappa()\n",
    "    swp.fm = kappa * 10.0**fm_over_kappa\n",
    "    swp.kext = kappa * eta\n",
    "    swp.kint = kappa - swp.kext\n",
    "    \n",
    "    swp.dbm = dbm\n",
    "    swp.delta = delta*swp.fm\n",
    "#     swp.mode = 'linear'  \n",
    "    swp.plot()\n",
    "\n",
    "interact(inter_omit, delta=(-20, 20), dbm=(-30,30), eta=(0.05, 0.95, 0.05), \n",
    "         fm_over_kappa=(-2, 2, 0.1))"
   ]
  },
  {
   "cell_type": "code",
   "execution_count": null,
   "metadata": {},
   "outputs": [],
   "source": []
  }
 ],
 "metadata": {
  "kernelspec": {
   "display_name": "Python 3",
   "language": "python",
   "name": "python3"
  },
  "language_info": {
   "codemirror_mode": {
    "name": "ipython",
    "version": 3
   },
   "file_extension": ".py",
   "mimetype": "text/x-python",
   "name": "python",
   "nbconvert_exporter": "python",
   "pygments_lexer": "ipython3",
   "version": "3.6.4"
  }
 },
 "nbformat": 4,
 "nbformat_minor": 2
}
