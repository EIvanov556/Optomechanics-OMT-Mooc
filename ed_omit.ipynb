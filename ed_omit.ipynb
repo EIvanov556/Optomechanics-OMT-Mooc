{
 "cells": [
  {
   "cell_type": "code",
   "execution_count": 1,
   "metadata": {},
   "outputs": [
    {
     "name": "stdout",
     "output_type": "stream",
     "text": [
      "Populating the interactive namespace from numpy and matplotlib\n"
     ]
    },
    {
     "data": {
      "text/plain": [
       "'\\nomit_dir = \"C:\\\\Users\\\\edoua\\\\Documents\\\\Python Scripts\\\\OMT-Mooc\\\\omit\\\\omit\"\\nos.chdir(omit_dir)\\nimport exercises\\n'"
      ]
     },
     "execution_count": 1,
     "metadata": {},
     "output_type": "execute_result"
    }
   ],
   "source": [
    "#MODULE LOADING\n",
    "%pylab qt5\n",
    "import numpy as np\n",
    "from cmath import *\n",
    "from ipywidgets import interact, interactive, fixed, interact_manual\n",
    "#https://ipywidgets.readthedocs.io/en/stable/examples/Using%20Interact.html\n",
    "import ipywidgets as widgets\n",
    "import os\n",
    "import omit.omit.exercises as exercises\n",
    "'''\n",
    "omit_dir = \"C:\\\\Users\\\\edoua\\\\Documents\\\\Python Scripts\\\\OMT-Mooc\\\\omit\\\\omit\"\n",
    "os.chdir(omit_dir)\n",
    "import exercises\n",
    "'''"
   ]
  },
  {
   "cell_type": "code",
   "execution_count": 2,
   "metadata": {},
   "outputs": [],
   "source": [
    "plt.close('all')\n",
    "oo = exercises.OpticsOnly()"
   ]
  },
  {
   "cell_type": "code",
   "execution_count": null,
   "metadata": {},
   "outputs": [],
   "source": [
    "plt.plot((1,1))"
   ]
  },
  {
   "cell_type": "code",
   "execution_count": null,
   "metadata": {},
   "outputs": [],
   "source": [
    "oo.sliders['eta'].val"
   ]
  },
  {
   "cell_type": "code",
   "execution_count": null,
   "metadata": {},
   "outputs": [],
   "source": [
    "#PURE OPTICS EXPERIMENT\n",
    "oo = exercises.OpticsOnly()\n",
    "eta_slider = widgets.FloatSlider(min=0, max=10, step=0.1, continuous_update=False, value=1)\n",
    "interactive(oo.main_fun, eta=eta_slider)"
   ]
  },
  {
   "cell_type": "code",
   "execution_count": null,
   "metadata": {},
   "outputs": [],
   "source": [
    "#ONE-TONE EXPERIMENT WITH WEAK COUPLING\n",
    "ote = exercises.OneToneExperiment()\n",
    "eta_slider = widgets.FloatSlider(min=0, max=10, step=0.1, continuous_update=False, value=1)\n",
    "g0_slider = widgets.FloatSlider(min=0, max=2e2/1e5, step=50/1e5, continuous_update=False, value=1e2/1e5)\n",
    "omega_m_slider = widgets.FloatSlider(min=1, max=15, step=2, continuous_update=False, value=8)\n",
    "t_slider = widgets.FloatSlider(min=1, max=300, step=50, continuous_update=False, value=300)\n",
    "interactive(ote.main_fun, eta=eta_slider, g0=g0_slider, omega_m=omega_m_slider, t=t_slider)"
   ]
  },
  {
   "cell_type": "code",
   "execution_count": null,
   "metadata": {},
   "outputs": [],
   "source": [
    "#TWO-TONE EXPERIMENT\n",
    "g0 = 0 #vacuum coupling rate\n",
    "ncav = 1e5 #number of intracavity photons\n",
    "g = g0*ncav\n",
    "\n",
    "omega_cav = 1e9 #cavity resonance\n",
    "kappa = 1e6 #cavity bandwidth\n",
    "\n",
    "\n",
    "Omega_m = 1e7 #mechanical frequency\n",
    "Q = 1e6 #quality factor\n",
    "Gamma = 0#Omega_m/Q\n",
    "\n",
    "omega = np.arange(-5, 5, 0.1) #in units of kappa, probe frequency\n",
    "Omega = -Omega_m #control tone frequency\n",
    "\n",
    "chi_aa = 1/((1/2)+1j*omega) #+ g*g/(kappa*Gamma/2 + 1j*kappa*(Omega_m+omega-Omega)))\n",
    "T = np.abs(1 - chi_aa)**2\n",
    "\n",
    "fg = plot(omega, T)"
   ]
  },
  {
   "cell_type": "code",
   "execution_count": null,
   "metadata": {
    "scrolled": true
   },
   "outputs": [],
   "source": [
    "import numpy as np\n",
    "import matplotlib.pyplot as plt\n",
    "from matplotlib.widgets import Slider, Button, RadioButtons, TextBox\n",
    "plt.close('all')\n",
    "\n",
    "fig, ax = plt.subplots()\n",
    "plt.subplots_adjust(left=0.25, bottom=0.25)\n",
    "\n",
    "eta=1\n",
    "omegas = np.arange(-5, 5, 0.01)  # in units of kext\n",
    "susceptibility = 1 / (((1+eta)/2)+1j*omegas)\n",
    "r = np.abs(1-susceptibility)**2\n",
    "\n",
    "l, = plt.plot(omegas, r, lw=2, color='red')\n",
    "l.axes.set_position([0.05,1-0.65-0.02,0.65,0.65])\n",
    "plt.axis([-5, 5, 0, 1])\n",
    "mngr = plt.get_current_fig_manager()\n",
    "# to put it into the upper left corner for example:\n",
    "mngr.window.setGeometry(50, 100, 1000, 800)\n",
    "\n",
    "axcolor = 'lightgoldenrodyellow'\n",
    "axeta = plt.axes([0.75, 1-0.65-0.02+0.1-0.04, 0.2, 0.025], facecolor=axcolor) #an axis needs to be created for each interactive object\n",
    "#firt array corresponds to start and end positions\n",
    "seta = Slider(axeta, 'Eta', 0, 5, valinit=1, valstep=0.1)\n",
    "\n",
    "\n",
    "textax = plt.axes([0.01, 1-0.65-0.02-0.3, 1-0.02, 0.25], facecolor=axcolor) #an axis needs to be created for each interactive object\n",
    "text = 'thetext'\n",
    "textbox = TextBox(textax, '', initial=text, color=axcolor, hovercolor=axcolor, label_pad=0.01)\n",
    "\n",
    "\n",
    "\n",
    "def update(val):\n",
    "    eta = seta.val\n",
    "    susceptibility = 1 / (((1+eta)/2)+1j*omegas)\n",
    "    r = np.abs(1-susceptibility)**2\n",
    "    l.set_ydata(r)\n",
    "    fig.canvas.draw_idle()\n",
    "seta.on_changed(update)\n",
    "\n",
    "resetax = plt.axes([0.75+0.2-0.1, 1-0.65-0.02, 0.1, 0.04])\n",
    "button = Button(resetax, 'Reset', color=axcolor, hovercolor='0.975')\n",
    "\n",
    "\n",
    "def reset(event):\n",
    "    seta.reset()\n",
    "button.on_clicked(reset)\n",
    "\n",
    "plt.show()"
   ]
  },
  {
   "cell_type": "code",
   "execution_count": null,
   "metadata": {},
   "outputs": [],
   "source": [
    "1-0.65-0.02"
   ]
  },
  {
   "cell_type": "code",
   "execution_count": null,
   "metadata": {},
   "outputs": [],
   "source": []
  }
 ],
 "metadata": {
  "kernelspec": {
   "display_name": "Python 3",
   "language": "python",
   "name": "python3"
  },
  "language_info": {
   "codemirror_mode": {
    "name": "ipython",
    "version": 3
   },
   "file_extension": ".py",
   "mimetype": "text/x-python",
   "name": "python",
   "nbconvert_exporter": "python",
   "pygments_lexer": "ipython3",
   "version": "3.6.5"
  }
 },
 "nbformat": 4,
 "nbformat_minor": 2
}
