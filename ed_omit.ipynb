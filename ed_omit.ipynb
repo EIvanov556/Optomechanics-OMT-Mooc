{
 "cells": [
  {
   "cell_type": "code",
   "execution_count": 1,
   "metadata": {},
   "outputs": [
    {
     "name": "stdout",
     "output_type": "stream",
     "text": [
      "Populating the interactive namespace from numpy and matplotlib\n"
     ]
    }
   ],
   "source": [
    "#MODULE LOADING\n",
    "%pylab inline\n",
    "import numpy\n",
    "from cmath import *\n",
    "from ipywidgets import interact, interactive, fixed, interact_manual\n",
    "#https://ipywidgets.readthedocs.io/en/stable/examples/Using%20Interact.html\n",
    "import ipywidgets as widgets"
   ]
  },
  {
   "cell_type": "code",
   "execution_count": null,
   "metadata": {},
   "outputs": [],
   "source": [
    "import C:\\\\Users\\\\edoua\\\\Documents\\\\Python Scripts\\\\OMT-Mooc\\\\omit"
   ]
  },
  {
   "cell_type": "code",
   "execution_count": null,
   "metadata": {},
   "outputs": [],
   "source": [
    "#PURE OPTICS EXPERIMENT\n",
    "#freqs in units of kext\n",
    "def optics_only(coupling = 1):\n",
    "    #coupling is k0/kext\n",
    "    omegas = np.arange(-5, 5, 0.01) #in units of kext\n",
    "    susceptibility = 1 / (((1+coupling)/2)+1j*omegas)\n",
    "    R = np.abs(1-susceptibility)**2\n",
    "    \n",
    "    plot(omegas, R)\n",
    "    ylim(0,1.05)\n",
    "    xlabel('detuning from resonance')\n",
    "    ylabel('R')\n",
    "    show()\n",
    "    \n",
    "    if coupling == 0:\n",
    "        print('Extremely overcoupled: \\nThe losses are negligible compared to the rate at which light can escape. \\nAll the light is then reflected back out of the cavity')\n",
    "    elif coupling < 1:\n",
    "        print('Overcoupled: \\nThe cavity losses are smaller than the external coupling rate.')\n",
    "    elif coupling == 1:\n",
    "        print('Critical coupling:\\nThe rate at which the light enters the cavity matches exactly the decay rate.\\nAt resonance, all photons will be dissipated')\n",
    "    else:\n",
    "        bad_cavity_text = \"\"\"Undercoupled:\\nThis is the so-called \"bad cavity\" regime. All excitations die out faster than they can be extracted from the cavity.\n",
    "        \"\"\"\n",
    "        print(bad_cavity_text)  \n",
    "    \n",
    "    \n",
    "slider = widgets.FloatSlider(min=0, max=10, step=0.1, continuous_update=False, value=1)\n",
    "interactive(optics_only, coupling=slider)"
   ]
  },
  {
   "cell_type": "code",
   "execution_count": 33,
   "metadata": {
    "scrolled": true
   },
   "outputs": [
    {
     "data": {
      "text/plain": [
       "[<matplotlib.lines.Line2D at 0x2824a084e80>]"
      ]
     },
     "execution_count": 33,
     "metadata": {},
     "output_type": "execute_result"
    },
    {
     "data": {
      "image/png": "[encoded data removed]",
      "text/plain": [
       "<matplotlib.figure.Figure at 0x2824a04d5c0>"
      ]
     },
     "metadata": {},
     "output_type": "display_data"
    }
   ],
   "source": [
    "#ONE-TONE EXPERIMENT\n",
    "#freqs in units of kappa ext\n",
    "eta = 1 #cavity coupling efficiency k0/kext\n",
    "\n",
    "g0 = 1e2/1e5 #vacuum coupling rate\n",
    "ncav = 1e5 #number of intracavity photons\n",
    "g = g0*ncav\n",
    "\n",
    "Omega_m = 7 #mechanical frequency\n",
    "kB = 1e-23\n",
    "T = 300\n",
    "hbar = 1e-34\n",
    "#Q = 1e2 #quality factor\n",
    "#Gamma = Omega_m/Q\n",
    "nth = (kB*T)/(hbar*Omega_m*1e5)\n",
    "\n",
    "omegas = np.arange(-15, 15, 0.01) #in units of kappa, probe frequency\n",
    "\n",
    "denom_opt = omegas*omegas + (1+eta)**2/4\n",
    "denom_omp = (omegas+Omega_m)**2 + (1+eta)**2/4\n",
    "denom_omm = (omegas-Omega_m)**2 + (1+eta)**2/4\n",
    "R_aa_1 = -(1+eta)/denom_opt #reduction in R from optics\n",
    "R_aa_2 = 1/denom_opt\n",
    "R_ba = nth*(g0/2)**2*(1/denom_omp + 1/denom_omm)\n",
    "R = 1 + R_aa_1 + R_aa_2*(1 - R_ba)\n",
    "\n",
    "plot(omegas, R)\n",
    "#ylim(0, 1.01)"
   ]
  },
  {
   "cell_type": "code",
   "execution_count": null,
   "metadata": {},
   "outputs": [],
   "source": [
    "#TWO-TONE EXPERIMENT\n",
    "g0 = 0 #vacuum coupling rate\n",
    "ncav = 1e5 #number of intracavity photons\n",
    "g = g0*ncav\n",
    "\n",
    "omega_cav = 1e9 #cavity resonance\n",
    "kappa = 1e6 #cavity bandwidth\n",
    "\n",
    "\n",
    "Omega_m = 1e7 #mechanical frequency\n",
    "Q = 1e6 #quality factor\n",
    "Gamma = 0#Omega_m/Q\n",
    "\n",
    "omega = np.arange(-5, 5, 0.1) #in units of kappa, probe frequency\n",
    "Omega = -Omega_m #control tone frequency\n",
    "\n",
    "chi_aa = 1/((1/2)+1j*omega) #+ g*g/(kappa*Gamma/2 + 1j*kappa*(Omega_m+omega-Omega)))\n",
    "T = np.abs(1 - chi_aa)**2\n",
    "\n",
    "fig = plot(omega, T)"
   ]
  },
  {
   "cell_type": "code",
   "execution_count": null,
   "metadata": {},
   "outputs": [],
   "source": []
  },
  {
   "cell_type": "code",
   "execution_count": null,
   "metadata": {},
   "outputs": [],
   "source": [
    "Omeg = 1e5\n",
    "kappa = 1\n",
    "\n",
    "omegs = "
   ]
  }
 ],
 "metadata": {
  "kernelspec": {
   "display_name": "Python 3",
   "language": "python",
   "name": "python3"
  },
  "language_info": {
   "codemirror_mode": {
    "name": "ipython",
    "version": 3
   },
   "file_extension": ".py",
   "mimetype": "text/x-python",
   "name": "python",
   "nbconvert_exporter": "python",
   "pygments_lexer": "ipython3",
   "version": "3.6.4"
  }
 },
 "nbformat": 4,
 "nbformat_minor": 2
}
