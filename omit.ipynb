{
 "cells": [
  {
   "cell_type": "code",
   "execution_count": null,
   "metadata": {},
   "outputs": [],
   "source": [
    "#MODULE LOADING\n",
    "%pylab inline\n",
    "import numpy\n",
    "from cmath import *\n",
    "from ipywidgets import interact, interactive, fixed, interact_manual\n",
    "#https://ipywidgets.readthedocs.io/en/stable/examples/Using%20Interact.html\n",
    "import ipywidgets as widgets"
   ]
  },
  {
   "cell_type": "code",
   "execution_count": null,
   "metadata": {},
   "outputs": [],
   "source": [
    "import C:\\\\Users\\\\edoua\\\\Documents\\\\Python Scripts\\\\OMT-Mooc\\\\omit"
   ]
  },
  {
   "cell_type": "code",
   "execution_count": null,
   "metadata": {},
   "outputs": [],
   "source": [
    "#PURE OPTICS EXPERIMENT\n",
    "#freqs in units of kext\n",
    "def optics_only(coupling = 1):\n",
    "    #coupling is k0/kext\n",
    "    omegas = np.arange(-5, 5, 0.01) #in units of kext\n",
    "    susceptibility = 1 / (((1+coupling)/2)+1j*omegas)\n",
    "    R = np.abs(1-susceptibility)**2\n",
    "    \n",
    "    plot(omegas, R)\n",
    "    ylim(0,1.05)\n",
    "    xlabel('detuning from resonance')\n",
    "    ylabel('R')\n",
    "    show()\n",
    "    \n",
    "    if coupling == 0:\n",
    "        print('Extremely overcoupled: \\nThe losses are negligible compared to the rate at which light can escape. \\nAll the light is then reflected back out of the cavity')\n",
    "    elif coupling < 1:\n",
    "        print('Overcoupled: \\nThe cavity losses are smaller than the external coupling rate.')\n",
    "    elif coupling == 1:\n",
    "        print('Critical coupling:\\nThe rate at which the light enters the cavity matches exactly the decay rate.\\nAt resonance, all photons will be dissipated')\n",
    "    else:\n",
    "        bad_cavity_text = \"\"\"Undercoupled:\\nThis is the so-called \"bad cavity\" regime. All excitations die out faster than they can be extracted from the cavity.\n",
    "        \"\"\"\n",
    "        print(bad_cavity_text)  \n",
    "    \n",
    "    \n",
    "slider = widgets.FloatSlider(min=0, max=10, step=0.1, continuous_update=False, value=1)\n",
    "interactive(optics_only, coupling=slider)"
   ]
  },
  {
   "cell_type": "code",
   "execution_count": null,
   "metadata": {},
   "outputs": [],
   "source": [
    "#ONE-TONE EXPERIMENT\n",
    "#freqs in units of kappa ext\n",
    "\n",
    "g0 = 1e3 #vacuum coupling rate\n",
    "ncav = 1e5 #number of intracavity photons\n",
    "g = 0.1\n",
    "\n",
    "coupling = 1 #cavity bandwidth\n",
    "\n",
    "\n",
    "Omega_m = 4 #mechanical frequency\n",
    "Q = 1e2 #quality factor\n",
    "Gamma = Omega_m/Q\n",
    "\n",
    "omegas = np.arange(-5, 5, 0.01) #in units of kappa, probe frequency\n",
    "\n",
    "chi_bb = g*g/(1j*(omegas+Omega_m)+Gamma/2)\n",
    "chi_aa = 1/(1j*omegas + (1+coupling)/2 - chi_bb)\n",
    "T = np.abs(1-chi_aa)**2\n",
    "\n",
    "plot(omegas, T)\n",
    "ylim(0, 1.01)"
   ]
  },
  {
   "cell_type": "code",
   "execution_count": null,
   "metadata": {},
   "outputs": [],
   "source": [
    "#TWO-TONE EXPERIMENT\n",
    "g0 = 0 #vacuum coupling rate\n",
    "ncav = 1e5 #number of intracavity photons\n",
    "g = g0*ncav\n",
    "\n",
    "omega_cav = 1e9 #cavity resonance\n",
    "kappa = 1e6 #cavity bandwidth\n",
    "\n",
    "\n",
    "Omega_m = 1e7 #mechanical frequency\n",
    "Q = 1e6 #quality factor\n",
    "Gamma = 0#Omega_m/Q\n",
    "\n",
    "omega = np.arange(-5, 5, 0.1) #in units of kappa, probe frequency\n",
    "Omega = -Omega_m #control tone frequency\n",
    "\n",
    "chi_aa = 1/((1/2)+1j*omega) #+ g*g/(kappa*Gamma/2 + 1j*kappa*(Omega_m+omega-Omega)))\n",
    "T = np.abs(1 - chi_aa)**2\n",
    "\n",
    "fig = plot(omega, T)"
   ]
  },
  {
   "cell_type": "code",
   "execution_count": null,
   "metadata": {},
   "outputs": [],
   "source": []
  },
  {
   "cell_type": "code",
   "execution_count": null,
   "metadata": {},
   "outputs": [],
   "source": [
    "Omeg = 1e5\n",
    "kappa = 1\n",
    "\n",
    "omegs = "
   ]
  }
 ],
 "metadata": {
  "kernelspec": {
   "display_name": "Python 3",
   "language": "python",
   "name": "python3"
  },
  "language_info": {
   "codemirror_mode": {
    "name": "ipython",
    "version": 3
   },
   "file_extension": ".py",
   "mimetype": "text/x-python",
   "name": "python",
   "nbconvert_exporter": "python",
   "pygments_lexer": "ipython3",
   "version": "3.6.4"
  }
 },
 "nbformat": 4,
 "nbformat_minor": 2
}
