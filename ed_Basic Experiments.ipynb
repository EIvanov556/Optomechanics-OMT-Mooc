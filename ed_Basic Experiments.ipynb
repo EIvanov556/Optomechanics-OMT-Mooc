{
 "cells": [
  {
   "cell_type": "code",
   "execution_count": 26,
   "metadata": {},
   "outputs": [
    {
     "name": "stdout",
     "output_type": "stream",
     "text": [
      "Populating the interactive namespace from numpy and matplotlib\n"
     ]
    },
    {
     "data": {
      "text/plain": [
       "<module 'omit.exercises' from 'C:\\\\Users\\\\zesse\\\\Documents\\\\GitHub\\\\Optomechanics-OMT-Mooc\\\\omit\\\\omit\\\\exercises.py'>"
      ]
     },
     "execution_count": 26,
     "metadata": {},
     "output_type": "execute_result"
    }
   ],
   "source": [
    "#MODULE LOADING\n",
    "%pylab qt5\n",
    "import omit.exercises as exercises\n",
    "import importlib, os\n",
    "importlib.reload(exercises)"
   ]
  },
  {
   "cell_type": "code",

   "execution_count": 28,
   "metadata": {
    "scrolled": true
   },
   "outputs": [],
   "source": [
    "#PURE OPTICS EXPERIMENT\n",
    "plt.close('all')\n",
    "oo = exercises.OpticsOnlyDoubleSided()"
   ]
  },
  {
   "cell_type": "code",
   "execution_count": null,
   "metadata": {},
   "outputs": [],
   "source": [
    "#ONE-TONE EXPERIMENT WITH WEAK COUPLING\n",
    "plt.close('all')\n",
    "ote = exercises.OneToneExperiment()"
   ]
  },
  {
   "cell_type": "code",
   "execution_count": 7,
   "metadata": {},
   "outputs": [
    {
     "data": {
      "text/plain": [
       "(0.0, 1.0, 0.0, 1.0)"
      ]
     },
     "execution_count": 7,
     "metadata": {},
     "output_type": "execute_result"
    }
   ],
   "source": [
    "oo.plt_ax.set_ylim?"
   ]
  },
  {
   "cell_type": "code",
   "execution_count": null,
   "metadata": {},
   "outputs": [],
   "source": [
    "import matplotlib.image as mimg\n",
    "import matplotlib.pyplot as plt\n",
    "#plt.close('all')\n",
    "plt.figure()\n",
    "image_location = 'C:\\\\Users\\\\edoua\\\\test.png'\n",
    "img = mimg.imread(image_location)\n",
    "position = [0, 1, 0, 1]\n",
    "fig = plt.imshow(img, extent=position)\n",
    "fig.axes.axis('off')\n",
    "\n",
    "#fig.axes.set_position(position)\n"
   ]
  },
  {
   "cell_type": "code",
   "execution_count": 3,
   "metadata": {},
   "outputs": [],
   "source": [
    "#TWO-TONE EXPERIMENT -NOT READY\n",
    "import numpy as np\n",
    "import matplotlib.pyplot as plt\n",
    "g0 = 0 #vacuum coupling rate\n",
    "ncav = 1e5 #number of intracavity photons\n",
    "g = g0*ncav\n",
    "\n",
    "omega_cav = 1e9 #cavity resonance\n",
    "kappa = 1e6 #cavity bandwidth\n",
    "\n",
    "\n",
    "Omega_m = 1e7 #mechanical frequency\n",
    "Q = 1e6 #quality factor\n",
    "Gamma = 0#Omega_m/Q\n",
    "\n",
    "omega = np.arange(-5, 5, 0.1) #in units of kappa, probe frequency\n",
    "Omega = -Omega_m #control tone frequency\n",
    "\n",
    "chi_aa = 1/((1/2)+1j*omega) #+ g*g/(kappa*Gamma/2 + 1j*kappa*(Omega_m+omega-Omega)))\n",
    "T = np.abs(1 - chi_aa)**2\n",
    "\n",
    "fg = plt.plot(omega, T)"
   ]
  },
  {
   "cell_type": "code",
   "execution_count": null,
   "metadata": {},
   "outputs": [],
   "source": [
    "import numpy as np\n",
    "import matplotlib.pyplot as plt\n",
    "from matplotlib.widgets import Slider, Button, RadioButtons\n",
    "\n",
    "fig, ax = plt.subplots()\n",
    "plt.subplots_adjust(left=0.25, bottom=0.25)\n",
    "t = np.arange(0.0, 1.0, 0.001)\n",
    "a0 = 5\n",
    "f0 = 3\n",
    "s = a0*np.sin(2*np.pi*f0*t)\n",
    "l, = plt.plot(t, s, lw=2, color='red')\n",
    "plt.axis([0, 1, -10, 10])\n",
    "\n",
    "axcolor = 'lightgoldenrodyellow'\n",
    "axfreq = plt.axes([0.25, 0.1, 0.65, 0.03], facecolor=axcolor)\n",
    "axamp = plt.axes([0.25, 0.15, 0.65, 0.03], facecolor=axcolor)\n",
    "\n",
    "sfreq = Slider(axfreq, 'Freq', 0.1, 30.0, valinit=f0)\n",
    "samp = Slider(axamp, 'Amp', 0.1, 10.0, valinit=a0)\n",
    "\n",
    "\n",
    "def update(val):\n",
    "    amp = samp.val\n",
    "    freq = sfreq.val\n",
    "    l.set_ydata(amp*np.sin(2*np.pi*freq*t))\n",
    "    fig.canvas.draw_idle()\n",
    "sfreq.on_changed(update)\n",
    "samp.on_changed(update)\n",
    "\n",
    "resetax = plt.axes([0.8, 0.025, 0.1, 0.04])\n",
    "button = Button(resetax, 'Reset', color=axcolor, hovercolor='0.975')\n",
    "\n",
    "\n",
    "def reset(event):\n",
    "    sfreq.reset()\n",
    "    samp.reset()\n",
    "button.on_clicked(reset)\n",
    "\n",
    "rax = plt.axes([0.025, 0.5, 0.15, 0.15], facecolor=axcolor)\n",
    "radio = RadioButtons(rax, ('red', 'blue', 'green'), active=0)\n",
    "\n",
    "\n",
    "def colorfunc(label):\n",
    "    l.set_color(label)\n",
    "    fig.canvas.draw_idle()\n",
    "radio.on_clicked(colorfunc)\n",
    "\n",
    "plt.show()"
   ]
  },
  {
   "cell_type": "code",
   "execution_count": 33,
   "metadata": {},
   "outputs": [
    {
     "name": "stdout",
     "output_type": "stream",
     "text": [
      "Populating the interactive namespace from numpy and matplotlib\n"
     ]
    },
    {
     "data": {
      "text/plain": [
       "[<matplotlib.lines.Line2D at 0x8aadd30>]"
      ]
     },
     "execution_count": 33,
     "metadata": {},
     "output_type": "execute_result"
    }
   ],
   "source": [
    "%pylab qt5\n",
    "import numpy as np\n",
    "import matplotlib.pyplot as plt\n",
    "plt.close('all')\n",
    "c = np.arange(0,10,0.1)\n",
    "\n",
    "plt.plot(c, c*(c+1)/(2*c+1)**2)"
   ]
  },
  {
   "cell_type": "code",
   "execution_count": 29,
   "metadata": {},
   "outputs": [],
   "source": [
    "np.arange?"
   ]
  },
  {
   "cell_type": "code",
   "execution_count": null,
   "metadata": {},
   "outputs": [],
   "source": []
  }
 ],
 "metadata": {
  "kernelspec": {
   "display_name": "Python 3",
   "language": "python",
   "name": "python3"
  },
  "language_info": {
   "codemirror_mode": {
    "name": "ipython",
    "version": 3
   },
   "file_extension": ".py",
   "mimetype": "text/x-python",
   "name": "python",
   "nbconvert_exporter": "python",
   "pygments_lexer": "ipython3",
   "version": "3.6.5"
  }
 },
 "nbformat": 4,
 "nbformat_minor": 2
}
